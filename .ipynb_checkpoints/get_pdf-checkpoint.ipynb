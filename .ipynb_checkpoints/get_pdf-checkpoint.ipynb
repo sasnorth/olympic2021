{
 "cells": [
  {
   "cell_type": "code",
   "execution_count": 257,
   "id": "6ce602e9-b585-4d62-b343-24bb9831c182",
   "metadata": {},
   "outputs": [],
   "source": [
    "from selenium import webdriver\n",
    "\n",
    "import time\n",
    "import numpy as np\n",
    "import pandas as pd\n",
    "import tabula\n",
    "\n",
    "from bs4 import BeautifulSoup\n",
    "import urllib.request as req\n",
    "\n",
    "import requests\n",
    "import os\n",
    "import glob\n",
    "import datetime\n",
    "import re"
   ]
  },
  {
   "cell_type": "code",
   "execution_count": 230,
   "id": "0cf40e7b-371f-43e1-93ad-25210b8fe88c",
   "metadata": {},
   "outputs": [],
   "source": [
    "options = webdriver.ChromeOptions()\n",
    "headers = {\"User-Agent\": \"Mozilla/5.0\"}\n",
    "# prefs = {\"download.default_directory\" : \"C:\\\\Users\\\\sasno\\\\Desktop\\\\Mypandas\\\\olympic2021\"}\n",
    "# pdfそのままダウンロード\n",
    "prefs = {\"download.default_directory\" : \"C:\\\\Users\\\\sasno\\\\Desktop\\\\Mypandas\\\\olympic2021\", \"plugins.always_open_pdf_externally\": True}\n",
    "options.add_experimental_option(\"prefs\", prefs)\n",
    "# options.add_argument(\"--headless\")"
   ]
  },
  {
   "cell_type": "code",
   "execution_count": 231,
   "id": "11df9fbf-6f59-4dff-be28-751ea1c65018",
   "metadata": {},
   "outputs": [],
   "source": [
    "# # GoogleChromeを起動\n",
    "browser = webdriver.Chrome(executable_path='C:\\\\Users\\\\sasno\\\\anaconda3\\\\lib\\\\site-packages\\\\chromedriver_binary\\\\chromedriver.exe', options=options)\n",
    "browser.implicitly_wait(3)"
   ]
  },
  {
   "cell_type": "code",
   "execution_count": 151,
   "id": "33b1889c-a4fa-4f5c-a17a-5010ad4549dd",
   "metadata": {},
   "outputs": [],
   "source": [
    "browser.close()"
   ]
  },
  {
   "cell_type": "code",
   "execution_count": 239,
   "id": "c3c71499-5b57-4b96-9a83-1f02fbcf0944",
   "metadata": {},
   "outputs": [],
   "source": [
    "url = 'https://olympics.com/tokyo-2020/olympic-games/en/results/volleyball/olympic-schedule-and-results.htm'\n",
    "browser.get(url)\n",
    "try:\n",
    "    browser.find_element_by_id('onetrust-accept-btn-handler').click()\n",
    "    time.sleep(3)\n",
    "    browser.find_element_by_xpath('//*[@id=\"gdfr-initial-screen\"]/div[2]/div[3]/a[1]').click()\n",
    "except:\n",
    "    pass"
   ]
  },
  {
   "cell_type": "markdown",
   "id": "f1ad3c7f-2bf4-4637-ac3e-55132c86cb07",
   "metadata": {},
   "source": [
    "### 各試合取得"
   ]
  },
  {
   "cell_type": "code",
   "execution_count": 220,
   "id": "3186089f-8b13-495a-809b-257305688870",
   "metadata": {},
   "outputs": [],
   "source": [
    "n = 30\n",
    "try:\n",
    "    for i in range(n):\n",
    "        j = i*2 + 5\n",
    "        try:\n",
    "            for k in range(1, n):\n",
    "                browser.get(url)\n",
    "                browser.find_element_by_xpath('/html/body/main/div/div[1]/div[1]/div[{0}]/div/div/table/tbody/tr[{1}]/td[3]/div/div/div[1]/div/div[1]/a'.format(j, k)).click()\n",
    "                browser.find_element_by_xpath('/html/body/main/div/div[1]/div[1]/div[2]/ul/li[5]/a').click()\n",
    "                unit = 5\n",
    "                for u in range(1, unit):\n",
    "                    browser.find_element_by_xpath('/html/body/main/div/div[1]/div[1]/div[3]/div[5]/div[2]/div[1]/div/div/ul/li[{}]/a'.format(u)).click()\n",
    "        except:\n",
    "            pass\n",
    "except:\n",
    "    pass"
   ]
  },
  {
   "cell_type": "code",
   "execution_count": 241,
   "id": "2e651d00-9f5b-4f6b-bc20-fc3e1a94f864",
   "metadata": {},
   "outputs": [],
   "source": [
    "browser.find_element_by_xpath('/html/body/main/div/div[1]/div[1]/div[7]/div/div/table/tbody/tr[1]/td[3]/div/div/div[1]/div/div[1]/a').click()"
   ]
  },
  {
   "cell_type": "markdown",
   "id": "1ee78d09-7ab6-4724-883a-acb4e9db18bf",
   "metadata": {},
   "source": [
    "### 最終結果取得"
   ]
  },
  {
   "cell_type": "code",
   "execution_count": 244,
   "id": "be97d990-5b10-41d3-bcd6-fe10019e0e10",
   "metadata": {},
   "outputs": [],
   "source": [
    "browser.find_element_by_xpath('/html/body/main/div/div[1]/div[1]/div[2]/ul/li[5]/a').click()\n",
    "unit = 7\n",
    "for u in range(1, unit):\n",
    "#     browser.find_element_by_xpath('/html/body/main/div/div[1]/div[1]/div[3]/div[5]/div[2]/div[1]/div/div/ul/li[{}]/a'.format(u)).click()\n",
    "    browser.find_element_by_xpath('/html/body/main/div/div[1]/div[1]/div[3]/div[5]/div[2]/div[3]/div/div/ul/li[{}]/a'.format(u)).click()"
   ]
  },
  {
   "cell_type": "markdown",
   "id": "28b8f894-c577-40b7-838a-2917a07eee5e",
   "metadata": {},
   "source": [
    "#### Use requests(没)"
   ]
  },
  {
   "cell_type": "code",
   "execution_count": 27,
   "id": "84600117-c074-4d0b-95e7-cecc8387f067",
   "metadata": {},
   "outputs": [],
   "source": [
    "res = requests.get(url)"
   ]
  },
  {
   "cell_type": "code",
   "execution_count": 44,
   "id": "a3cceeaa-53ab-47e0-8c10-be5ae99dcda4",
   "metadata": {},
   "outputs": [],
   "source": [
    "soup = BeautifulSoup(res.text, 'html.parser')\n",
    "trs = soup.find_all('a', href=re.compile('../../../en/results/volleyball/olympic-schedule-and-results-date='), )"
   ]
  },
  {
   "cell_type": "code",
   "execution_count": 61,
   "id": "ff86ebcf-1d82-48dc-b85a-573bd6ca4b2a",
   "metadata": {},
   "outputs": [],
   "source": [
    "scheduleList = []\n",
    "for tr in trs:\n",
    "#     print(tr.attrs['href'])\n",
    "    if tr.attrs['href'] not in scheduleList:\n",
    "        scheduleList.append(tr.attrs['href'])\n",
    "# print(scheduleList)"
   ]
  },
  {
   "cell_type": "code",
   "execution_count": 62,
   "id": "fa75ba8a-9336-46f6-a3cb-8067a3900eb7",
   "metadata": {},
   "outputs": [
    {
     "name": "stdout",
     "output_type": "stream",
     "text": [
      "https://olympics.com/tokyo-2020/olympic-games/en/results/volleyball/../../../en/results/volleyball/olympic-schedule-and-results-date=2021-07-24.htm\n",
      "https://olympics.com/tokyo-2020/olympic-games/en/results/volleyball/../../../en/results/volleyball/olympic-schedule-and-results-date=2021-07-25.htm\n",
      "https://olympics.com/tokyo-2020/olympic-games/en/results/volleyball/../../../en/results/volleyball/olympic-schedule-and-results-date=2021-07-26.htm\n",
      "https://olympics.com/tokyo-2020/olympic-games/en/results/volleyball/../../../en/results/volleyball/olympic-schedule-and-results-date=2021-07-27.htm\n",
      "https://olympics.com/tokyo-2020/olympic-games/en/results/volleyball/../../../en/results/volleyball/olympic-schedule-and-results-date=2021-07-28.htm\n",
      "https://olympics.com/tokyo-2020/olympic-games/en/results/volleyball/../../../en/results/volleyball/olympic-schedule-and-results-date=2021-07-29.htm\n",
      "https://olympics.com/tokyo-2020/olympic-games/en/results/volleyball/../../../en/results/volleyball/olympic-schedule-and-results-date=2021-07-30.htm\n",
      "https://olympics.com/tokyo-2020/olympic-games/en/results/volleyball/../../../en/results/volleyball/olympic-schedule-and-results-date=2021-07-31.htm\n",
      "https://olympics.com/tokyo-2020/olympic-games/en/results/volleyball/../../../en/results/volleyball/olympic-schedule-and-results-date=2021-08-01.htm\n",
      "https://olympics.com/tokyo-2020/olympic-games/en/results/volleyball/../../../en/results/volleyball/olympic-schedule-and-results-date=2021-08-02.htm\n",
      "https://olympics.com/tokyo-2020/olympic-games/en/results/volleyball/../../../en/results/volleyball/olympic-schedule-and-results-date=2021-08-03.htm\n",
      "https://olympics.com/tokyo-2020/olympic-games/en/results/volleyball/../../../en/results/volleyball/olympic-schedule-and-results-date=2021-08-04.htm\n",
      "https://olympics.com/tokyo-2020/olympic-games/en/results/volleyball/../../../en/results/volleyball/olympic-schedule-and-results-date=2021-08-05.htm\n",
      "https://olympics.com/tokyo-2020/olympic-games/en/results/volleyball/../../../en/results/volleyball/olympic-schedule-and-results-date=2021-08-06.htm\n",
      "https://olympics.com/tokyo-2020/olympic-games/en/results/volleyball/../../../en/results/volleyball/olympic-schedule-and-results-date=2021-08-07.htm\n",
      "https://olympics.com/tokyo-2020/olympic-games/en/results/volleyball/../../../en/results/volleyball/olympic-schedule-and-results-date=2021-08-08.htm\n"
     ]
    }
   ],
   "source": [
    "for i in range(len(scheduleList)):\n",
    "    scheduleList[i] = 'https://olympics.com/tokyo-2020/olympic-games/en/results/volleyball/' + scheduleList[i]\n",
    "    print(scheduleList[i])\n",
    "    "
   ]
  },
  {
   "cell_type": "code",
   "execution_count": 69,
   "id": "387b641c-d517-472e-a3af-61c0b1961cc9",
   "metadata": {},
   "outputs": [],
   "source": [
    "dayurl = scheduleList[0]"
   ]
  },
  {
   "cell_type": "code",
   "execution_count": 70,
   "id": "9b39ae8e-0174-451e-b739-8acff9133d08",
   "metadata": {},
   "outputs": [],
   "source": [
    "res = requests.get(dayurl)\n",
    "# dayres.text"
   ]
  },
  {
   "cell_type": "code",
   "execution_count": 245,
   "id": "5af686c4-769a-4e36-90d5-e7119d5fa970",
   "metadata": {},
   "outputs": [],
   "source": [
    "# soup = BeautifulSoup(res.text, 'html.parser')\n",
    "# trs = soup.find_all('div', class_='d-flex')\n",
    "# trs\n",
    "# trs = soup.find_all('a', href=re.compile('../../../en/results/volleyball/'), )\n",
    "# //*[@id=\"VVO2021-07-24\"]/div/table/tbody/tr[1]/td[3]/div/div/div[1]/div/div[1]/a"
   ]
  },
  {
   "cell_type": "code",
   "execution_count": 84,
   "id": "749ba984-d695-48f1-9817-0250600fdd7b",
   "metadata": {},
   "outputs": [
    {
     "name": "stdout",
     "output_type": "stream",
     "text": [
      "[]\n",
      "Tennis</a>]s</a>, <a class=\"dropdown-link\" href=\"../../../en/results/tennis/olympic-schedule-and-results-date=2021-07-24.htm\" title=\"Tennis\"> <img alt=\"\" aria-hidden=\"true\" class=\"sport-icon\" role=\"presentation\" src=\"../../../resOG2020-/img/sports/TEN.png\"/>s/TTE.png\"/>\n",
      "[]\n",
      "[]\n",
      "[]\n",
      "[]\n"
     ]
    }
   ],
   "source": [
    "resultList = []\n",
    "for tr in trs:\n",
    "#     print(tr.attrs['href'])\n",
    "#     if tr.attrs['href'] not in resultList:\n",
    "#         scheduleList.append(tr.attrs['href'])\n",
    "    a = tr.find_all('a', title=re.compile('en'))\n",
    "    print(a)\n",
    "# print(resultList)"
   ]
  },
  {
   "cell_type": "code",
   "execution_count": 252,
   "id": "014d0530-dd4e-4e40-8e75-884d28cc42c6",
   "metadata": {},
   "outputs": [],
   "source": [
    "# 重複したpdfを削除\n",
    "l = glob.glob('OG2020*(1).pdf')\n",
    "for i in l:\n",
    "    os.remove(i)"
   ]
  },
  {
   "cell_type": "code",
   "execution_count": 281,
   "id": "c3d5508a-bfc7-4385-a6f8-475429d2c0c3",
   "metadata": {},
   "outputs": [
    {
     "name": "stdout",
     "output_type": "stream",
     "text": [
      "OG2020-_VVO_C73_VVOMTEAM6-------------FNL-000100--.pdf\n",
      "OG2020-_VVO_C73_VVOMTEAM6-------------FNL-000200--.pdf\n",
      "OG2020-_VVO_C73_VVOMTEAM6-------------GPA-000100--.pdf\n",
      "OG2020-_VVO_C73_VVOMTEAM6-------------GPA-000200--.pdf\n",
      "OG2020-_VVO_C73_VVOMTEAM6-------------GPA-000300--.pdf\n",
      "OG2020-_VVO_C73_VVOMTEAM6-------------GPA-000400--.pdf\n",
      "OG2020-_VVO_C73_VVOMTEAM6-------------GPA-000500--.pdf\n",
      "OG2020-_VVO_C73_VVOMTEAM6-------------GPA-000600--.pdf\n",
      "OG2020-_VVO_C73_VVOMTEAM6-------------GPA-000700--.pdf\n",
      "OG2020-_VVO_C73_VVOMTEAM6-------------GPA-000800--.pdf\n",
      "OG2020-_VVO_C73_VVOMTEAM6-------------GPA-000900--.pdf\n",
      "OG2020-_VVO_C73_VVOMTEAM6-------------GPA-001000--.pdf\n",
      "OG2020-_VVO_C73_VVOMTEAM6-------------GPA-001100--.pdf\n",
      "OG2020-_VVO_C73_VVOMTEAM6-------------GPA-001200--.pdf\n",
      "OG2020-_VVO_C73_VVOMTEAM6-------------GPA-001300--.pdf\n",
      "OG2020-_VVO_C73_VVOMTEAM6-------------GPA-001400--.pdf\n",
      "OG2020-_VVO_C73_VVOMTEAM6-------------GPA-001500--.pdf\n",
      "OG2020-_VVO_C73_VVOMTEAM6-------------GPB-000100--.pdf\n",
      "OG2020-_VVO_C73_VVOMTEAM6-------------GPB-000200--.pdf\n",
      "OG2020-_VVO_C73_VVOMTEAM6-------------GPB-000300--.pdf\n",
      "OG2020-_VVO_C73_VVOMTEAM6-------------GPB-000400--.pdf\n",
      "OG2020-_VVO_C73_VVOMTEAM6-------------GPB-000500--.pdf\n",
      "OG2020-_VVO_C73_VVOMTEAM6-------------GPB-000600--.pdf\n",
      "OG2020-_VVO_C73_VVOMTEAM6-------------GPB-000700--.pdf\n",
      "OG2020-_VVO_C73_VVOMTEAM6-------------GPB-000800--.pdf\n",
      "OG2020-_VVO_C73_VVOMTEAM6-------------GPB-000900--.pdf\n",
      "OG2020-_VVO_C73_VVOMTEAM6-------------GPB-001000--.pdf\n",
      "OG2020-_VVO_C73_VVOMTEAM6-------------GPB-001100--.pdf\n",
      "OG2020-_VVO_C73_VVOMTEAM6-------------GPB-001200--.pdf\n",
      "OG2020-_VVO_C73_VVOMTEAM6-------------GPB-001300--.pdf\n",
      "OG2020-_VVO_C73_VVOMTEAM6-------------GPB-001400--.pdf\n",
      "OG2020-_VVO_C73_VVOMTEAM6-------------GPB-001500--.pdf\n",
      "OG2020-_VVO_C73_VVOMTEAM6-------------QFNL000100--.pdf\n",
      "OG2020-_VVO_C73_VVOMTEAM6-------------QFNL000200--.pdf\n",
      "OG2020-_VVO_C73_VVOMTEAM6-------------QFNL000300--.pdf\n",
      "OG2020-_VVO_C73_VVOMTEAM6-------------QFNL000400--.pdf\n",
      "OG2020-_VVO_C73_VVOMTEAM6-------------SFNL000100--.pdf\n",
      "OG2020-_VVO_C73_VVOMTEAM6-------------SFNL000200--.pdf\n",
      "OG2020-_VVO_C73_VVOWTEAM6-------------FNL-000100--.pdf\n",
      "OG2020-_VVO_C73_VVOWTEAM6-------------FNL-000200--.pdf\n",
      "OG2020-_VVO_C73_VVOWTEAM6-------------GPA-000100--.pdf\n",
      "OG2020-_VVO_C73_VVOWTEAM6-------------GPA-000200--.pdf\n",
      "OG2020-_VVO_C73_VVOWTEAM6-------------GPA-000300--.pdf\n",
      "OG2020-_VVO_C73_VVOWTEAM6-------------GPA-000400--.pdf\n",
      "OG2020-_VVO_C73_VVOWTEAM6-------------GPA-000500--.pdf\n",
      "OG2020-_VVO_C73_VVOWTEAM6-------------GPA-000600--.pdf\n",
      "OG2020-_VVO_C73_VVOWTEAM6-------------GPA-000700--.pdf\n",
      "OG2020-_VVO_C73_VVOWTEAM6-------------GPA-000800--.pdf\n",
      "OG2020-_VVO_C73_VVOWTEAM6-------------GPA-000900--.pdf\n",
      "OG2020-_VVO_C73_VVOWTEAM6-------------GPA-001000--.pdf\n",
      "OG2020-_VVO_C73_VVOWTEAM6-------------GPA-001100--.pdf\n",
      "OG2020-_VVO_C73_VVOWTEAM6-------------GPA-001200--.pdf\n",
      "OG2020-_VVO_C73_VVOWTEAM6-------------GPA-001300--.pdf\n",
      "OG2020-_VVO_C73_VVOWTEAM6-------------GPA-001400--.pdf\n",
      "OG2020-_VVO_C73_VVOWTEAM6-------------GPA-001500--.pdf\n",
      "OG2020-_VVO_C73_VVOWTEAM6-------------GPB-000100--.pdf\n",
      "OG2020-_VVO_C73_VVOWTEAM6-------------GPB-000200--.pdf\n",
      "OG2020-_VVO_C73_VVOWTEAM6-------------GPB-000300--.pdf\n",
      "OG2020-_VVO_C73_VVOWTEAM6-------------GPB-000400--.pdf\n",
      "OG2020-_VVO_C73_VVOWTEAM6-------------GPB-000500--.pdf\n",
      "OG2020-_VVO_C73_VVOWTEAM6-------------GPB-000600--.pdf\n",
      "OG2020-_VVO_C73_VVOWTEAM6-------------GPB-000700--.pdf\n",
      "OG2020-_VVO_C73_VVOWTEAM6-------------GPB-000800--.pdf\n",
      "OG2020-_VVO_C73_VVOWTEAM6-------------GPB-000900--.pdf\n",
      "OG2020-_VVO_C73_VVOWTEAM6-------------GPB-001000--.pdf\n",
      "OG2020-_VVO_C73_VVOWTEAM6-------------GPB-001100--.pdf\n",
      "OG2020-_VVO_C73_VVOWTEAM6-------------GPB-001200--.pdf\n",
      "OG2020-_VVO_C73_VVOWTEAM6-------------GPB-001300--.pdf\n",
      "OG2020-_VVO_C73_VVOWTEAM6-------------GPB-001400--.pdf\n",
      "OG2020-_VVO_C73_VVOWTEAM6-------------GPB-001500--.pdf\n",
      "OG2020-_VVO_C73_VVOWTEAM6-------------QFNL000100--.pdf\n",
      "OG2020-_VVO_C73_VVOWTEAM6-------------QFNL000200--.pdf\n",
      "OG2020-_VVO_C73_VVOWTEAM6-------------QFNL000300--.pdf\n",
      "OG2020-_VVO_C73_VVOWTEAM6-------------QFNL000400--.pdf\n",
      "OG2020-_VVO_C73_VVOWTEAM6-------------SFNL000100--.pdf\n",
      "OG2020-_VVO_C73_VVOWTEAM6-------------SFNL000200--.pdf\n"
     ]
    }
   ],
   "source": [
    "# 確認\n",
    "l = glob.glob('OG2020-_VVO_C73*')\n",
    "for i in l:\n",
    "    print(i)"
   ]
  }
 ],
 "metadata": {
  "kernelspec": {
   "display_name": "Python 3",
   "language": "python",
   "name": "python3"
  },
  "language_info": {
   "codemirror_mode": {
    "name": "ipython",
    "version": 3
   },
   "file_extension": ".py",
   "mimetype": "text/x-python",
   "name": "python",
   "nbconvert_exporter": "python",
   "pygments_lexer": "ipython3",
   "version": "3.8.8"
  }
 },
 "nbformat": 4,
 "nbformat_minor": 5
}

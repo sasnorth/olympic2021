{
 "cells": [
  {
   "cell_type": "code",
   "execution_count": 1,
   "id": "6ce602e9-b585-4d62-b343-24bb9831c182",
   "metadata": {},
   "outputs": [],
   "source": [
    "from selenium import webdriver\n",
    "\n",
    "import time\n",
    "import numpy as np\n",
    "import pandas as pd\n",
    "import tabula\n",
    "\n",
    "from bs4 import BeautifulSoup\n",
    "import urllib.request as req\n",
    "\n",
    "import requests\n",
    "import os\n",
    "import glob\n",
    "import datetime\n",
    "import re"
   ]
  },
  {
   "cell_type": "code",
   "execution_count": 2,
   "id": "0cf40e7b-371f-43e1-93ad-25210b8fe88c",
   "metadata": {},
   "outputs": [],
   "source": [
    "options = webdriver.ChromeOptions()\n",
    "headers = {\"User-Agent\": \"Mozilla/5.0\"}\n",
    "# prefs = {\"download.default_directory\" : \"C:\\\\Users\\\\sasno\\\\Desktop\\\\Mypandas\\\\olympic2021\"}\n",
    "# pdfそのままダウンロード\n",
    "prefs = {\"download.default_directory\" : \"C:\\\\Users\\\\sasno\\\\Desktop\\\\Mypandas\\\\olympic2021\", \"plugins.always_open_pdf_externally\": True}\n",
    "options.add_experimental_option(\"prefs\", prefs)\n",
    "# options.add_argument(\"--headless\") "
   ]
  },
  {
   "cell_type": "code",
   "execution_count": 3,
   "id": "11df9fbf-6f59-4dff-be28-751ea1c65018",
   "metadata": {},
   "outputs": [],
   "source": [
    "# # GoogleChromeを起動\n",
    "browser = webdriver.Chrome(executable_path='C:\\\\Users\\\\sasno\\\\anaconda3\\\\lib\\\\site-packages\\\\chromedriver_binary\\\\chromedriver.exe', options=options)\n",
    "browser.implicitly_wait(3)"
   ]
  },
  {
   "cell_type": "code",
   "execution_count": 108,
   "id": "33b1889c-a4fa-4f5c-a17a-5010ad4549dd",
   "metadata": {},
   "outputs": [],
   "source": [
    "browser.close()"
   ]
  },
  {
   "cell_type": "code",
   "execution_count": 4,
   "id": "c3c71499-5b57-4b96-9a83-1f02fbcf0944",
   "metadata": {},
   "outputs": [],
   "source": [
    "# url = 'https://olympics.com/tokyo-2020/olympic-games/en/results/volleyball/olympic-schedule-and-results.htm'\n",
    "url = 'https://olympics.com/tokyo-2020/olympic-games/en/results/volleyball/result-men-fnl-000200-.htm'\n",
    "browser.get(url)\n",
    "try:\n",
    "    browser.find_element_by_id('onetrust-accept-btn-handler').click()\n",
    "    time.sleep(3)\n",
    "    browser.find_element_by_xpath('//*[@id=\"gdfr-initial-screen\"]/div[2]/div[3]/a[1]').click()\n",
    "except:\n",
    "    pass"
   ]
  },
  {
   "cell_type": "code",
   "execution_count": 42,
   "id": "26346f6b-2bfd-41b7-bae6-06bfa40221ea",
   "metadata": {},
   "outputs": [],
   "source": [
    "browser.find_element_by_xpath('/html/body/main/div/div[1]/div[1]/div[2]/ul/li[4]/a').click()"
   ]
  },
  {
   "cell_type": "code",
   "execution_count": 43,
   "id": "9e9b4d3f-6e6b-4536-a9e2-4156e7489d13",
   "metadata": {},
   "outputs": [],
   "source": [
    "# url = browser.current_url\n",
    "# html = pd.read_html(url)\n",
    "tables = browser.find_elements_by_class_name('table')"
   ]
  },
  {
   "cell_type": "code",
   "execution_count": 50,
   "id": "e7faf82e-5bef-4018-8e7f-fbacb89a3730",
   "metadata": {},
   "outputs": [
    {
     "name": "stdout",
     "output_type": "stream",
     "text": [
      "<th></th><th></th><th></th><th></th><th></th><th></th><th></th><th></th><th></th><th></th><th></th><th></th><th></th><th></th><th></th><th></th><th></th><th></th><th></th><th></th><th></th><th></th><th></th><th></th><th></th><th></th><th></th><th></th><th></th><th></th><th></th><th></th><th></th><th></th><th></th><th></th><th></th><th></th><th></th><th></th><th></th><th></th><th></th><th></th><th></th><th></th><th></th><th></th><th></th><th></th><th></th><th></th><th></th><th></th><th></th><th></th><th></th><th></th><th></th><th></th><th></th><th></th><th></th><th></th><th></th><th></th><th></th><th></th><th></th><th></th><th></th><th></th><th></th><th></th><th></th><th></th><th></th><th></th><th></th><th></th><th></th><th></th><th></th><th></th><th></th><th></th><th></th><th></th><th></th><th></th><th></th><th></th><th></th><th></th><th></th><th></th><th></th><th></th><th></th><th></th><th></th><th></th><th></th><th></th><th></th><th></th><th></th><th></th><th></th><th></th><th></th><th></th><th></th><th></th><th></th><th></th><th></th><th></th><th></th><th></th><th></th><th></th><th></th><th></th><th></th><th></th><th></th><th></th><th></th><th></th><th></th><th></th><th></th><th></th><th></th><th></th><th></th><th></th><th></th><th></th><th></th><th></th><th></th><th></th><th></th><th></th><th></th><th></th><th></th><th></th><th></th><th></th><th></th><th></th><th></th><th></th><th></th><th></th><th></th><th></th><th></th><th></th><th></th><th></th><th></th><th></th><th></th><th></th><th></th><th></th><th></th><th></th><th></th><th></th><th></th><th></th><th></th><th></th><th></th><th></th><th></th><th></th><th></th><th></th><th></th><th></th><th></th><th></th><th></th><th></th><th></th><th></th><th></th><th></th><th></th><th></th><th></th><th></th><th></th><th></th><th></th><th></th><th></th><th></th><th></th><th></th><th></th><th></th><th></th><th></th><th></th><th></th><th></th><th></th><th></th><th></th><th></th><th></th><th></th><th></th><th></th><th></th><th></th><th></th><th></th><th></th><th></th><th></th><th></th><th></th><th></th><th></th><th></th><th></th><th></th><th></th><th></th><th></th><th></th><th></th><th></th><th></th><th></th><th></th><th></th><th></th><th></th><th></th><th></th><th></th><th></th><th></th><th></th><th></th><th></th><th></th><th></th><th></th><th></th><th></th><th></th><th></th><th></th><th></th><th></th><th></th><th></th><th></th><th></th><th></th><th>Sets</th><th>Set 1</th><th>Set 2</th><th>Set 3</th><th>Set 4</th><th>Set 5</th><th>Total</th><th>Rally/Time</th><th>ARG\n",
      "Argentina</th><th>BRA\n",
      "Brazil</th><th></th><th></th><th></th><th></th><th></th><th></th><th></th><th></th><th></th><th></th><th></th><th></th>\n"
     ]
    }
   ],
   "source": [
    "explain = ''\n",
    "for table in tables:\n",
    "#     trs = table.find_elements_by_tag_name(\"tr\")\n",
    "# #     print(trs)\n",
    "#     for i in range(1,len(trs)):\n",
    "#         tds = trs[i].find_elements_by_tag_name(\"td\")\n",
    "# #         print(tds)\n",
    "#         for td in tds:\n",
    "#             print(td)\n",
    "#     table = scroll.find_element_by_tag_name(\"table\")\n",
    "    thead = table.find_element_by_tag_name(\"thead\").find_element_by_tag_name(\"tr\").find_elements_by_tag_name(\"th\")\n",
    "    for i, th in enumerate(thead):\n",
    "        explain += \"<th>\"+ th.text+ \"</th>\"\n",
    "    tbody = table.find_element_by_tag_name(\"tbody\").find_element_by_tag_name(\"tr\").find_elements_by_tag_name(\"th\")\n",
    "    for i, th in enumerate(tbody):\n",
    "        explain += \"<th>\"+ th.text+ \"</th>\"\n",
    "print(explain)"
   ]
  },
  {
   "cell_type": "code",
   "execution_count": 56,
   "id": "2b301588-447f-4f82-99ca-baa41a042684",
   "metadata": {},
   "outputs": [
    {
     "data": {
      "text/plain": [
       "[]"
      ]
     },
     "execution_count": 56,
     "metadata": {},
     "output_type": "execute_result"
    }
   ],
   "source": [
    "browser.find_elements_by_class_name('collapse show')"
   ]
  },
  {
   "cell_type": "code",
   "execution_count": 107,
   "id": "1636c6b5-f0ee-4f01-982e-e6f33c62f89d",
   "metadata": {},
   "outputs": [],
   "source": [
    "# browser.find_element_by_xpath('//*[@id=\"headingS5\"]')\n",
    "explain = ''\n",
    "table = browser.find_element_by_xpath('//*[@id=\"collapseS5\"]').find_element_by_tag_name('table')\n",
    "html = '<table>' + table.get_attribute('innerHTML') + '</table>'\n",
    "# print(html)"
   ]
  },
  {
   "cell_type": "code",
   "execution_count": 103,
   "id": "771d1b6e-974f-4fe2-ac51-14f4c0fd1e97",
   "metadata": {},
   "outputs": [
    {
     "data": {
      "text/html": [
       "<div>\n",
       "<style scoped>\n",
       "    .dataframe tbody tr th:only-of-type {\n",
       "        vertical-align: middle;\n",
       "    }\n",
       "\n",
       "    .dataframe tbody tr th {\n",
       "        vertical-align: top;\n",
       "    }\n",
       "\n",
       "    .dataframe thead th {\n",
       "        text-align: right;\n",
       "    }\n",
       "</style>\n",
       "<table border=\"1\" class=\"dataframe\">\n",
       "  <thead>\n",
       "    <tr style=\"text-align: right;\">\n",
       "      <th></th>\n",
       "      <th>Rally/Time</th>\n",
       "      <th>ARGArgentina</th>\n",
       "      <th>Unnamed: 2</th>\n",
       "      <th>BRABrazil</th>\n",
       "    </tr>\n",
       "  </thead>\n",
       "  <tbody>\n",
       "    <tr>\n",
       "      <th>0</th>\n",
       "      <td>21:00</td>\n",
       "      <td>NaN</td>\n",
       "      <td>NaN</td>\n",
       "      <td>NaN</td>\n",
       "    </tr>\n",
       "    <tr>\n",
       "      <th>1</th>\n",
       "      <td>NaN</td>\n",
       "      <td>NaN</td>\n",
       "      <td>End of Set</td>\n",
       "      <td>NaN</td>\n",
       "    </tr>\n",
       "    <tr>\n",
       "      <th>2</th>\n",
       "      <td>20820:19</td>\n",
       "      <td>NaN</td>\n",
       "      <td>15-13</td>\n",
       "      <td>NaN</td>\n",
       "    </tr>\n",
       "    <tr>\n",
       "      <th>3</th>\n",
       "      <td>NaN</td>\n",
       "      <td>8 ARGLOSER ALOSER Agustin Block Point</td>\n",
       "      <td>20:19 15-13</td>\n",
       "      <td>NaN</td>\n",
       "    </tr>\n",
       "    <tr>\n",
       "      <th>4</th>\n",
       "      <td>NaN</td>\n",
       "      <td>14 BRACORREIA De SOUZA DCORREIA De SOUZA Dougl...</td>\n",
       "      <td>20:19</td>\n",
       "      <td>14 BRACORREIA De SOUZA DCORREIA De SOUZA Dougl...</td>\n",
       "    </tr>\n",
       "    <tr>\n",
       "      <th>...</th>\n",
       "      <td>...</td>\n",
       "      <td>...</td>\n",
       "      <td>...</td>\n",
       "      <td>...</td>\n",
       "    </tr>\n",
       "    <tr>\n",
       "      <th>125</th>\n",
       "      <td>18100:00</td>\n",
       "      <td>NaN</td>\n",
       "      <td>1-0</td>\n",
       "      <td>NaN</td>\n",
       "    </tr>\n",
       "    <tr>\n",
       "      <th>126</th>\n",
       "      <td>NaN</td>\n",
       "      <td>ARGArgentina Opponent Error</td>\n",
       "      <td>00:00</td>\n",
       "      <td>NaN</td>\n",
       "    </tr>\n",
       "    <tr>\n",
       "      <th>127</th>\n",
       "      <td>NaN</td>\n",
       "      <td>13 BRADe SOUZA MLDe SOUZA Mauricio Luiz Serve ...</td>\n",
       "      <td>00:00 1-0</td>\n",
       "      <td>13 BRADe SOUZA MLDe SOUZA Mauricio Luiz Serve ...</td>\n",
       "    </tr>\n",
       "    <tr>\n",
       "      <th>128</th>\n",
       "      <td>00:00</td>\n",
       "      <td>NaN</td>\n",
       "      <td>NaN</td>\n",
       "      <td>NaN</td>\n",
       "    </tr>\n",
       "    <tr>\n",
       "      <th>129</th>\n",
       "      <td>NaN</td>\n",
       "      <td>NaN</td>\n",
       "      <td>Start of Set</td>\n",
       "      <td>NaN</td>\n",
       "    </tr>\n",
       "  </tbody>\n",
       "</table>\n",
       "<p>130 rows × 4 columns</p>\n",
       "</div>"
      ],
      "text/plain": [
       "    Rally/Time                                       ARGArgentina  \\\n",
       "0        21:00                                                NaN   \n",
       "1          NaN                                                NaN   \n",
       "2     20820:19                                                NaN   \n",
       "3          NaN              8 ARGLOSER ALOSER Agustin Block Point   \n",
       "4          NaN  14 BRACORREIA De SOUZA DCORREIA De SOUZA Dougl...   \n",
       "..         ...                                                ...   \n",
       "125   18100:00                                                NaN   \n",
       "126        NaN                        ARGArgentina Opponent Error   \n",
       "127        NaN  13 BRADe SOUZA MLDe SOUZA Mauricio Luiz Serve ...   \n",
       "128      00:00                                                NaN   \n",
       "129        NaN                                                NaN   \n",
       "\n",
       "       Unnamed: 2                                          BRABrazil  \n",
       "0             NaN                                                NaN  \n",
       "1      End of Set                                                NaN  \n",
       "2           15-13                                                NaN  \n",
       "3     20:19 15-13                                                NaN  \n",
       "4           20:19  14 BRACORREIA De SOUZA DCORREIA De SOUZA Dougl...  \n",
       "..            ...                                                ...  \n",
       "125           1-0                                                NaN  \n",
       "126         00:00                                                NaN  \n",
       "127     00:00 1-0  13 BRADe SOUZA MLDe SOUZA Mauricio Luiz Serve ...  \n",
       "128           NaN                                                NaN  \n",
       "129  Start of Set                                                NaN  \n",
       "\n",
       "[130 rows x 4 columns]"
      ]
     },
     "execution_count": 103,
     "metadata": {},
     "output_type": "execute_result"
    }
   ],
   "source": [
    "dfs = pd.read_html(html, header=None)\n",
    "df[0]"
   ]
  },
  {
   "cell_type": "code",
   "execution_count": 82,
   "id": "3545573a-c43f-4d5d-a454-a8f30de114c4",
   "metadata": {},
   "outputs": [
    {
     "data": {
      "text/plain": [
       "'Rally/Time\\nARG\\nArgentina\\nBRA\\nBrazil\\n\\n21:00  \\n208\\n20:19 15-13\\n8\\nARG\\nLOSER Agustin\\nBlock  Point\\n14\\nBRA\\nCORREIA De SOUZA Douglas\\nAttack  Error\\n11\\nARG\\nSOLE Sebastian\\nServe  In-play\\n207\\n19:45 14-13\\n14\\nBRA\\nCORREIA De SOUZA Douglas\\nBlock  Error\\n7\\nARG\\nCONTE Facundo\\nAttack  Point\\n5\\nBRA\\nBORGES ALMEIDA SILVA Mauricio\\nServe  In-play\\nServe Speed 98 km/h\\n\\n19:10  \\n16\\nBRA\\nSAATKAMP Lucas\\nSubstitution   Out \\n5\\nBRA\\nBORGES ALMEIDA SILVA Mauricio\\nSubstitution   In \\n206\\n19:01 13-13\\n12\\nARG\\nLIMA Bruno\\nDig  Error\\n21\\nBRA\\nSOUZA Alan\\nAttack  Point\\n7\\nARG\\nCONTE Facundo\\nServe  In-play\\nServe Speed 82 km/h\\n\\n18:35  \\nBRA\\nBrazil\\nChallenge  (Ball In/Out) Unsuccessful\\n205\\n17:42 13-12\\nARG\\nArgentina\\nOpponent Error \\n18\\nBRA\\nSOUZA Ricardo Lucarelli\\nServe  Error\\n204\\n16:24 12-12\\n7\\nARG\\nCONTE Facundo\\nReception  Error\\n18\\nBRA\\nSOUZA Ricardo Lucarelli\\nServe  Point\\nServe Speed 117 km/h\\n\\n16:10  \\nARG\\nArgentina\\nTime Out \\n203\\n16:09 12-11\\n6\\nBRA\\nGIL KRELING Fernando\\nBlock  Point\\n7\\nARG\\nCONTE Facundo\\nAttack  Error\\n18\\nBRA\\nSOUZA Ricardo Lucarelli\\nServe  In-play\\nServe Speed 106 km/h\\n\\n15:32  \\n18\\nARG\\nRAMOS Martin\\nSubstitution   Out \\n15\\nARG\\nde CECCO Luciano\\nSubstitution   In \\n1\\nARG\\nSANCHEZ Matias\\nSubstitution   Out \\n12\\nARG\\nLIMA Bruno\\nSubstitution   In \\n202\\n15:23 12-10\\n7\\nARG\\nCONTE Facundo\\nBlock  Error\\n14\\nBRA\\nCORREIA De SOUZA Douglas\\nAttack  Point\\n1\\nARG\\nSANCHEZ Matias\\nServe  In-play\\n\\n14:05  \\nBRA\\nBrazil\\nTime Out \\n201\\n13:54 12-9\\n16\\nBRA\\nSAATKAMP Lucas\\nBlock  Error\\n7\\nARG\\nCONTE Facundo\\nAttack  Point\\n1\\nARG\\nSANCHEZ Matias\\nServe  In-play\\n\\n13:23  \\n15\\nARG\\nde CECCO Luciano\\nSubstitution   Out \\n18\\nARG\\nRAMOS Martin\\nSubstitution   In \\n12\\nARG\\nLIMA Bruno\\nSubstitution   Out \\n1\\nARG\\nSANCHEZ Matias\\nSubstitution   In \\n200\\n13:16 11-9\\n16\\nBRA\\nSAATKAMP Lucas\\nBlock  Error\\n11\\nARG\\nSOLE Sebastian\\nAttack  Point\\n21\\nBRA\\nSOUZA Alan\\nServe  In-play\\nServe Speed 104 km/h\\n199\\n11:29 10-9\\n13\\nARG\\nPALACIOS Ezequiel\\nDig  Error\\n21\\nBRA\\nSOUZA Alan\\nAttack  Point\\n21\\nBRA\\nSOUZA Alan\\nServe  In-play\\nServe Speed 119 km/h\\n\\n11:26  \\nARG\\nArgentina\\nTime Out \\n198\\n11:06 10-8\\n13\\nARG\\nPALACIOS Ezequiel\\nDig  Error\\n14\\nBRA\\nCORREIA De SOUZA Douglas\\nAttack  Point\\n21\\nBRA\\nSOUZA Alan\\nServe  In-play\\nServe Speed 123 km/h\\n197\\n10:18 10-7\\n11\\nARG\\nSOLE Sebastian\\nBlock  Error\\n16\\nBRA\\nSAATKAMP Lucas\\nAttack  Point\\n8\\nARG\\nLOSER Agustin\\nServe  In-play\\nServe Speed 108 km/h\\n196\\n09:29 10-6\\nARG\\nArgentina\\nOpponent Error \\n12\\nBRA\\nSANTOS Isac\\nServe  Error\\n195\\n09:16 9-6\\n15\\nARG\\nde CECCO Luciano\\nDig  Error\\n14\\nBRA\\nCORREIA De SOUZA Douglas\\nAttack  Point\\n13\\nARG\\nPALACIOS Ezequiel\\nServe  In-play\\nServe Speed 62 km/h\\n194\\n08:46 9-5\\n12\\nBRA\\nSANTOS Isac\\nBlock  Error\\n12\\nARG\\nLIMA Bruno\\nAttack  Point\\n14\\nBRA\\nCORREIA De SOUZA Douglas\\nServe  In-play\\nServe Speed 93 km/h\\n193\\n07:06 8-5\\nBRA\\nBrazil\\nOpponent Error \\n15\\nARG\\nde CECCO Luciano\\nServe  Error\\n\\n08:12  \\n1\\nBRA\\nREZENDE Bruno Mossa\\nSubstitution   Out \\n21\\nBRA\\nSOUZA Alan\\nSubstitution   In \\n13\\nBRA\\nDe SOUZA Mauricio Luiz\\nSubstitution   Out \\n12\\nBRA\\nSANTOS Isac\\nSubstitution   In \\n8\\nBRA\\nDe SOUZA Wallace\\nSubstitution   Out \\n6\\nBRA\\nGIL KRELING Fernando\\nSubstitution   In \\n192\\n06:58 8-4\\n15\\nARG\\nde CECCO Luciano\\nBlock  Point\\n14\\nBRA\\nCORREIA De SOUZA Douglas\\nAttack  Error\\n8\\nBRA\\nDe SOUZA Wallace\\nServe  In-play\\nServe Speed 106 km/h\\n191\\n06:08 7-4\\n11\\nARG\\nSOLE Sebastian\\nDig  Error\\n14\\nBRA\\nCORREIA De SOUZA Douglas\\nAttack  Point\\n11\\nARG\\nSOLE Sebastian\\nServe  In-play\\nServe Speed 62 km/h\\n\\n04:59  \\nBRA\\nBrazil\\nTime Out \\n190\\n04:45 7-3\\nARG\\nArgentina\\nOpponent Error \\n8\\nBRA\\nDe SOUZA Wallace\\nAttack  Error\\n11\\nARG\\nSOLE Sebastian\\nServe  In-play\\nServe Speed 82 km/h\\n189\\n03:48 6-3\\nARG\\nArgentina\\nOpponent Error \\n16\\nBRA\\nSAATKAMP Lucas\\nServe  Error\\n188\\n03:27 5-3\\nBRA\\nBrazil\\nOpponent Error \\n7\\nARG\\nCONTE Facundo\\nServe  Error\\n187\\n03:20 5-2\\n18\\nBRA\\nSOUZA Ricardo Lucarelli\\nBlock  Error\\n11\\nARG\\nSOLE Sebastian\\nAttack  Point\\n18\\nBRA\\nSOUZA Ricardo Lucarelli\\nServe  In-play\\nServe Speed 112 km/h\\n186\\n02:25 4-2\\nBRA\\nBrazil\\nOpponent Error \\n12\\nARG\\nLIMA Bruno\\nServe  Error\\n185\\n02:18 4-1\\n8\\nBRA\\nDe SOUZA Wallace\\nBlock  Error\\n7\\nARG\\nCONTE Facundo\\nAttack  Point\\n1\\nBRA\\nREZENDE Bruno Mossa\\nServe  In-play\\nServe Speed 87 km/h\\n184\\n01:49 3-1\\n11\\nARG\\nSOLE Sebastian\\nBlock  Error\\n16\\nBRA\\nSAATKAMP Lucas\\nAttack  Point\\n8\\nARG\\nLOSER Agustin\\nServe  In-play\\nServe Speed 105 km/h\\n183\\n00:38 3-0\\nARG\\nArgentina\\nOpponent Error \\n8\\nBRA\\nDe SOUZA Wallace\\nAttack  Error\\n8\\nARG\\nLOSER Agustin\\nServe  In-play\\nServe Speed 108 km/h\\n182\\n00:37 2-0\\n7\\nARG\\nCONTE Facundo\\nBlock  Point\\n8\\nBRA\\nDe SOUZA Wallace\\nAttack  Error\\n8\\nARG\\nLOSER Agustin\\nServe  In-play\\nServe Speed 105 km/h\\n181\\n00:00 1-0\\nARG\\nArgentina\\nOpponent Error \\n13\\nBRA\\nDe SOUZA Mauricio Luiz\\nServe  Error\\n\\n00:00  '"
      ]
     },
     "execution_count": 82,
     "metadata": {},
     "output_type": "execute_result"
    }
   ],
   "source": [
    "table.text"
   ]
  },
  {
   "cell_type": "code",
   "execution_count": 27,
   "id": "963a4fdd-0153-4c05-9d1c-e5b6562da7c0",
   "metadata": {},
   "outputs": [
    {
     "data": {
      "text/html": [
       "<div>\n",
       "<style scoped>\n",
       "    .dataframe tbody tr th:only-of-type {\n",
       "        vertical-align: middle;\n",
       "    }\n",
       "\n",
       "    .dataframe tbody tr th {\n",
       "        vertical-align: top;\n",
       "    }\n",
       "\n",
       "    .dataframe thead th {\n",
       "        text-align: right;\n",
       "    }\n",
       "</style>\n",
       "<table border=\"1\" class=\"dataframe\">\n",
       "  <thead>\n",
       "    <tr style=\"text-align: right;\">\n",
       "      <th></th>\n",
       "      <th>Function</th>\n",
       "      <th>Name</th>\n",
       "    </tr>\n",
       "  </thead>\n",
       "  <tbody>\n",
       "    <tr>\n",
       "      <th>0</th>\n",
       "      <td>1st Referee</td>\n",
       "      <td>POLMAROSZEK WMAROSZEK Wojciech</td>\n",
       "    </tr>\n",
       "    <tr>\n",
       "      <th>1</th>\n",
       "      <td>2nd Referee</td>\n",
       "      <td>FRACOLLADOS FCOLLADOS Fabrice</td>\n",
       "    </tr>\n",
       "    <tr>\n",
       "      <th>2</th>\n",
       "      <td>Challenge Referee</td>\n",
       "      <td>GERKRAFT HKRAFT Heike</td>\n",
       "    </tr>\n",
       "  </tbody>\n",
       "</table>\n",
       "</div>"
      ],
      "text/plain": [
       "            Function                            Name\n",
       "0        1st Referee  POLMAROSZEK WMAROSZEK Wojciech\n",
       "1        2nd Referee   FRACOLLADOS FCOLLADOS Fabrice\n",
       "2  Challenge Referee           GERKRAFT HKRAFT Heike"
      ]
     },
     "execution_count": 27,
     "metadata": {},
     "output_type": "execute_result"
    }
   ],
   "source": [
    "# print(len(html))\n",
    "html[-1]"
   ]
  },
  {
   "cell_type": "markdown",
   "id": "f1ad3c7f-2bf4-4637-ac3e-55132c86cb07",
   "metadata": {},
   "source": [
    "### 各試合取得"
   ]
  },
  {
   "cell_type": "code",
   "execution_count": 20,
   "id": "3186089f-8b13-495a-809b-257305688870",
   "metadata": {},
   "outputs": [
    {
     "name": "stdout",
     "output_type": "stream",
     "text": [
      "1 get pdf\n",
      "2 get pdf\n",
      "3 get pdf\n",
      "4 get pdf\n",
      "5 get pdf\n",
      "6 get pdf\n",
      "missed j=5, k=7\n"
     ]
    }
   ],
   "source": [
    "url = 'https://olympics.com/tokyo-2020/olympic-games/en/results/volleyball/olympic-schedule-and-results.htm'\n",
    "n = 30\n",
    "n2 = 1\n",
    "num = 1\n",
    "try:\n",
    "    for i in range(n2):\n",
    "        j = i*2 + 5\n",
    "        try:\n",
    "            for k in range(1, n):\n",
    "                browser.get(url)\n",
    "                browser.find_element_by_xpath('/html/body/main/div/div[1]/div[1]/div[{0}]/div/div/table/tbody/tr[{1}]/td[3]/div/div/div[1]/div/div[1]'.format(j, k)).click()\n",
    "                browser.find_element_by_xpath('/html/body/main/div/div[1]/div[1]/div[2]/ul/li[5]/a').click()\n",
    "                unit = 5\n",
    "                for u in range(1, unit):\n",
    "                    browser.find_element_by_xpath('/html/body/main/div/div[1]/div[1]/div[3]/div[5]/div[2]/div[1]/div/div/ul/li[{}]/a'.format(u)).click()\n",
    "                print(str(num) + ' get pdf')\n",
    "                num += 1\n",
    "                time.sleep(1)\n",
    "        except:\n",
    "            print('missed j={}, k={}'.format(j,k))\n",
    "            pass\n",
    "except:\n",
    "    pass\n",
    "# /html/body/main/div/div[1]/div[1]/div[5]/div/div/table/tbody/tr[1]/td[3]/div/div/div[1]/div/div[1]\n",
    "# /html/body/main/div/div[1]/div[1]/div[5]/div/div/table/tbody/tr[2]/td[3]/div/div/div[1]/div/div[1]/a"
   ]
  },
  {
   "cell_type": "code",
   "execution_count": 19,
   "id": "ca04730d-a4d7-479d-b8bd-b99a2b032802",
   "metadata": {},
   "outputs": [
    {
     "name": "stdout",
     "output_type": "stream",
     "text": [
      "1 get pdf\n"
     ]
    }
   ],
   "source": [
    "browser.get(url)\n",
    "browser.find_element_by_xpath('/html/body/main/div/div[1]/div[1]/div[5]/div/div/table/tbody/tr[1]/td[3]/div/div/div[1]/div/div[1]').click()\n",
    "browser.find_element_by_xpath('/html/body/main/div/div[1]/div[1]/div[2]/ul/li[5]/a').click()\n",
    "unit = 5\n",
    "for u in range(1, unit):\n",
    "    browser.find_element_by_xpath('/html/body/main/div/div[1]/div[1]/div[3]/div[5]/div[2]/div[1]/div/div/ul/li[{}]/a'.format(u)).click()\n",
    "print(str(num) + ' get pdf')"
   ]
  },
  {
   "cell_type": "code",
   "execution_count": 241,
   "id": "2e651d00-9f5b-4f6b-bc20-fc3e1a94f864",
   "metadata": {},
   "outputs": [],
   "source": [
    "browser.find_element_by_xpath('/html/body/main/div/div[1]/div[1]/div[7]/div/div/table/tbody/tr[1]/td[3]/div/div/div[1]/div/div[1]/a').click()"
   ]
  },
  {
   "cell_type": "markdown",
   "id": "1ee78d09-7ab6-4724-883a-acb4e9db18bf",
   "metadata": {},
   "source": [
    "### 最終結果取得"
   ]
  },
  {
   "cell_type": "code",
   "execution_count": 244,
   "id": "be97d990-5b10-41d3-bcd6-fe10019e0e10",
   "metadata": {},
   "outputs": [],
   "source": [
    "browser.find_element_by_xpath('/html/body/main/div/div[1]/div[1]/div[2]/ul/li[5]/a').click()\n",
    "unit = 7\n",
    "for u in range(1, unit):\n",
    "#     browser.find_element_by_xpath('/html/body/main/div/div[1]/div[1]/div[3]/div[5]/div[2]/div[1]/div/div/ul/li[{}]/a'.format(u)).click()\n",
    "    browser.find_element_by_xpath('/html/body/main/div/div[1]/div[1]/div[3]/div[5]/div[2]/div[3]/div/div/ul/li[{}]/a'.format(u)).click()"
   ]
  },
  {
   "cell_type": "markdown",
   "id": "28b8f894-c577-40b7-838a-2917a07eee5e",
   "metadata": {},
   "source": [
    "#### Use requests(没)"
   ]
  },
  {
   "cell_type": "code",
   "execution_count": 27,
   "id": "84600117-c074-4d0b-95e7-cecc8387f067",
   "metadata": {},
   "outputs": [],
   "source": [
    "res = requests.get(url)"
   ]
  },
  {
   "cell_type": "code",
   "execution_count": 44,
   "id": "a3cceeaa-53ab-47e0-8c10-be5ae99dcda4",
   "metadata": {},
   "outputs": [],
   "source": [
    "soup = BeautifulSoup(res.text, 'html.parser')\n",
    "trs = soup.find_all('a', href=re.compile('../../../en/results/volleyball/olympic-schedule-and-results-date='), )"
   ]
  },
  {
   "cell_type": "code",
   "execution_count": 61,
   "id": "ff86ebcf-1d82-48dc-b85a-573bd6ca4b2a",
   "metadata": {},
   "outputs": [],
   "source": [
    "scheduleList = []\n",
    "for tr in trs:\n",
    "#     print(tr.attrs['href'])\n",
    "    if tr.attrs['href'] not in scheduleList:\n",
    "        scheduleList.append(tr.attrs['href'])\n",
    "# print(scheduleList)"
   ]
  },
  {
   "cell_type": "code",
   "execution_count": 62,
   "id": "fa75ba8a-9336-46f6-a3cb-8067a3900eb7",
   "metadata": {},
   "outputs": [
    {
     "name": "stdout",
     "output_type": "stream",
     "text": [
      "https://olympics.com/tokyo-2020/olympic-games/en/results/volleyball/../../../en/results/volleyball/olympic-schedule-and-results-date=2021-07-24.htm\n",
      "https://olympics.com/tokyo-2020/olympic-games/en/results/volleyball/../../../en/results/volleyball/olympic-schedule-and-results-date=2021-07-25.htm\n",
      "https://olympics.com/tokyo-2020/olympic-games/en/results/volleyball/../../../en/results/volleyball/olympic-schedule-and-results-date=2021-07-26.htm\n",
      "https://olympics.com/tokyo-2020/olympic-games/en/results/volleyball/../../../en/results/volleyball/olympic-schedule-and-results-date=2021-07-27.htm\n",
      "https://olympics.com/tokyo-2020/olympic-games/en/results/volleyball/../../../en/results/volleyball/olympic-schedule-and-results-date=2021-07-28.htm\n",
      "https://olympics.com/tokyo-2020/olympic-games/en/results/volleyball/../../../en/results/volleyball/olympic-schedule-and-results-date=2021-07-29.htm\n",
      "https://olympics.com/tokyo-2020/olympic-games/en/results/volleyball/../../../en/results/volleyball/olympic-schedule-and-results-date=2021-07-30.htm\n",
      "https://olympics.com/tokyo-2020/olympic-games/en/results/volleyball/../../../en/results/volleyball/olympic-schedule-and-results-date=2021-07-31.htm\n",
      "https://olympics.com/tokyo-2020/olympic-games/en/results/volleyball/../../../en/results/volleyball/olympic-schedule-and-results-date=2021-08-01.htm\n",
      "https://olympics.com/tokyo-2020/olympic-games/en/results/volleyball/../../../en/results/volleyball/olympic-schedule-and-results-date=2021-08-02.htm\n",
      "https://olympics.com/tokyo-2020/olympic-games/en/results/volleyball/../../../en/results/volleyball/olympic-schedule-and-results-date=2021-08-03.htm\n",
      "https://olympics.com/tokyo-2020/olympic-games/en/results/volleyball/../../../en/results/volleyball/olympic-schedule-and-results-date=2021-08-04.htm\n",
      "https://olympics.com/tokyo-2020/olympic-games/en/results/volleyball/../../../en/results/volleyball/olympic-schedule-and-results-date=2021-08-05.htm\n",
      "https://olympics.com/tokyo-2020/olympic-games/en/results/volleyball/../../../en/results/volleyball/olympic-schedule-and-results-date=2021-08-06.htm\n",
      "https://olympics.com/tokyo-2020/olympic-games/en/results/volleyball/../../../en/results/volleyball/olympic-schedule-and-results-date=2021-08-07.htm\n",
      "https://olympics.com/tokyo-2020/olympic-games/en/results/volleyball/../../../en/results/volleyball/olympic-schedule-and-results-date=2021-08-08.htm\n"
     ]
    }
   ],
   "source": [
    "for i in range(len(scheduleList)):\n",
    "    scheduleList[i] = 'https://olympics.com/tokyo-2020/olympic-games/en/results/volleyball/' + scheduleList[i]\n",
    "    print(scheduleList[i])\n",
    "    "
   ]
  },
  {
   "cell_type": "code",
   "execution_count": 69,
   "id": "387b641c-d517-472e-a3af-61c0b1961cc9",
   "metadata": {},
   "outputs": [],
   "source": [
    "dayurl = scheduleList[0]"
   ]
  },
  {
   "cell_type": "code",
   "execution_count": 70,
   "id": "9b39ae8e-0174-451e-b739-8acff9133d08",
   "metadata": {},
   "outputs": [],
   "source": [
    "res = requests.get(dayurl)\n",
    "# dayres.text"
   ]
  },
  {
   "cell_type": "code",
   "execution_count": 245,
   "id": "5af686c4-769a-4e36-90d5-e7119d5fa970",
   "metadata": {},
   "outputs": [],
   "source": [
    "# soup = BeautifulSoup(res.text, 'html.parser')\n",
    "# trs = soup.find_all('div', class_='d-flex')\n",
    "# trs\n",
    "# trs = soup.find_all('a', href=re.compile('../../../en/results/volleyball/'), )\n",
    "# //*[@id=\"VVO2021-07-24\"]/div/table/tbody/tr[1]/td[3]/div/div/div[1]/div/div[1]/a"
   ]
  },
  {
   "cell_type": "code",
   "execution_count": 84,
   "id": "749ba984-d695-48f1-9817-0250600fdd7b",
   "metadata": {},
   "outputs": [
    {
     "name": "stdout",
     "output_type": "stream",
     "text": [
      "[]\n",
      "Tennis</a>]s</a>, <a class=\"dropdown-link\" href=\"../../../en/results/tennis/olympic-schedule-and-results-date=2021-07-24.htm\" title=\"Tennis\"> <img alt=\"\" aria-hidden=\"true\" class=\"sport-icon\" role=\"presentation\" src=\"../../../resOG2020-/img/sports/TEN.png\"/>s/TTE.png\"/>\n",
      "[]\n",
      "[]\n",
      "[]\n",
      "[]\n"
     ]
    }
   ],
   "source": [
    "resultList = []\n",
    "for tr in trs:\n",
    "#     print(tr.attrs['href'])\n",
    "#     if tr.attrs['href'] not in resultList:\n",
    "#         scheduleList.append(tr.attrs['href'])\n",
    "    a = tr.find_all('a', title=re.compile('en'))\n",
    "    print(a)\n",
    "# print(resultList)"
   ]
  },
  {
   "cell_type": "code",
   "execution_count": 21,
   "id": "014d0530-dd4e-4e40-8e75-884d28cc42c6",
   "metadata": {},
   "outputs": [],
   "source": [
    "# 重複したpdfを削除\n",
    "l = glob.glob('OG2020*(1).pdf')\n",
    "for i in l:\n",
    "    os.remove(i)"
   ]
  },
  {
   "cell_type": "code",
   "execution_count": 1,
   "id": "c3d5508a-bfc7-4385-a6f8-475429d2c0c3",
   "metadata": {},
   "outputs": [
    {
     "ename": "NameError",
     "evalue": "name 'glob' is not defined",
     "output_type": "error",
     "traceback": [
      "\u001b[1;31m---------------------------------------------------------------------------\u001b[0m",
      "\u001b[1;31mNameError\u001b[0m                                 Traceback (most recent call last)",
      "\u001b[1;32m<ipython-input-1-3503bd45f688>\u001b[0m in \u001b[0;36m<module>\u001b[1;34m\u001b[0m\n\u001b[0;32m      1\u001b[0m \u001b[1;31m# 確認\u001b[0m\u001b[1;33m\u001b[0m\u001b[1;33m\u001b[0m\u001b[1;33m\u001b[0m\u001b[0m\n\u001b[1;32m----> 2\u001b[1;33m \u001b[0ml\u001b[0m \u001b[1;33m=\u001b[0m \u001b[0mglob\u001b[0m\u001b[1;33m.\u001b[0m\u001b[0mglob\u001b[0m\u001b[1;33m(\u001b[0m\u001b[1;34m'OG2020-_VVO_C73*'\u001b[0m\u001b[1;33m)\u001b[0m\u001b[1;33m\u001b[0m\u001b[1;33m\u001b[0m\u001b[0m\n\u001b[0m\u001b[0;32m      3\u001b[0m \u001b[1;31m# for i in l:\u001b[0m\u001b[1;33m\u001b[0m\u001b[1;33m\u001b[0m\u001b[1;33m\u001b[0m\u001b[0m\n\u001b[0;32m      4\u001b[0m \u001b[1;31m#     print(i)\u001b[0m\u001b[1;33m\u001b[0m\u001b[1;33m\u001b[0m\u001b[1;33m\u001b[0m\u001b[0m\n",
      "\u001b[1;31mNameError\u001b[0m: name 'glob' is not defined"
     ]
    }
   ],
   "source": [
    "# 確認\n",
    "l = glob.glob('OG2020-_VVO_C73*')\n",
    "# for i in l:\n",
    "#     print(i)"
   ]
  },
  {
   "cell_type": "code",
   "execution_count": null,
   "id": "dbf13e1a-2fc8-47e3-98da-c031fedb966f",
   "metadata": {},
   "outputs": [],
   "source": []
  }
 ],
 "metadata": {
  "kernelspec": {
   "display_name": "Python 3",
   "language": "python",
   "name": "python3"
  },
  "language_info": {
   "codemirror_mode": {
    "name": "ipython",
    "version": 3
   },
   "file_extension": ".py",
   "mimetype": "text/x-python",
   "name": "python",
   "nbconvert_exporter": "python",
   "pygments_lexer": "ipython3",
   "version": "3.8.8"
  }
 },
 "nbformat": 4,
 "nbformat_minor": 5
}
